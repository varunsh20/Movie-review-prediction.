{
 "cells": [
  {
   "cell_type": "code",
   "execution_count": 2,
   "metadata": {},
   "outputs": [],
   "source": [
    "#Importing modules and data\n",
    "\n",
    "import nltk\n",
    "from nltk.tokenize import RegexpTokenizer\n",
    "from nltk.stem.porter import PorterStemmer\n",
    "from nltk.corpus import stopwords\n",
    "import pandas as pd\n",
    "import numpy as np\n",
    "\n",
    "data = pd.read_csv('Train.csv')\n",
    "x_train = data['review']\n",
    "Y_train = data['label']\n",
    "\n",
    "X_train = list(x_train)\n"
   ]
  },
  {
   "cell_type": "code",
   "execution_count": 3,
   "metadata": {},
   "outputs": [],
   "source": [
    "#Creating tokenized and stemming objects.\n",
    "\n",
    "tokenizer = RegexpTokenizer(r'\\w+')\n",
    "ps = PorterStemmer()\n",
    "en_sw = set(stopwords.words('english'))\n"
   ]
  },
  {
   "cell_type": "code",
   "execution_count": 5,
   "metadata": {
    "scrolled": true
   },
   "outputs": [
    {
     "name": "stdout",
     "output_type": "stream",
     "text": [
      "matur intellig highli charg melodrama unbelivebl film china 1948 wei wei stun perform catylast love triangl simpli stun oppurun see magnific film take\n"
     ]
    }
   ],
   "source": [
    "#Creating a function for clean data.\n",
    "\n",
    "def cleanreview(review):\n",
    "    review = review.lower()\n",
    "    review = review.replace(\"<br /><br />\",\" \")\n",
    "    tokenized_review = tokenizer.tokenize(review)\n",
    "    filtered_review = [words for words in tokenized_review if words not in en_sw]\n",
    "    stemmed_review = [ps.stem(word) for word in filtered_review]\n",
    "    cleaned_review = ' '.join(stemmed_review)\n",
    "    \n",
    "    return cleaned_review\n",
    "    \n",
    "s = cleanreview(X_train[0])\n",
    "print(s)"
   ]
  },
  {
   "cell_type": "code",
   "execution_count": 6,
   "metadata": {},
   "outputs": [],
   "source": [
    "#Importing testing data.\n",
    "\n",
    "testing_data = pd.read_csv('Test.csv')\n",
    "x_test = testing_data['review']\n",
    "X_test = list(x_test)"
   ]
  },
  {
   "cell_type": "code",
   "execution_count": 7,
   "metadata": {},
   "outputs": [
    {
     "name": "stdout",
     "output_type": "stream",
     "text": [
      "['matur intellig highli charg melodrama unbelivebl film china 1948 wei wei stun perform catylast love triangl simpli stun oppurun see magnific film take', 'http video googl com videoplay docid 211772166650071408 hl en distribut tri opt mass appeal want best possibl view rang forgo profit continu manual labor job gladli entertain work view texa tale pleas write like like alex like stuie texa texa tale write opinion rule', 'titl opera 1987 director dario argento cast cristina masillach ian charleson urbano barberini daria nicolodi review argento movi seen suspiria one blew away style color spooki stori line next decid go opera told one best man think discov ultim one favorit horror director opera young opera singer get big break main star creepi modern opera take mc beth get hit car betti understudi get part bad psycho make watch brutal murder friend co worker wow id heard good thing flick prepar level great film would take yeah movi shortcom ill get later part movi blew away first movi fill lot color suspiria expect bit like suspiria depart surpris look feel film somehow devoid color lot color certain scene like master kitchen live room sequenc argento fill screen lush green blue part film grayish black tone like distinct look real star show incred well orchestr death sequenc wow everi death scene like work art beauti destruct typic hack slash death sequenc death care construct shock get situat love everi second plenti blood mayhem style gonna spoil em though direct man realli origin beauti shot one love invent use camera one thought tarantino shot kill bill vol 1 see bullet come chamber gun origin well movi lift honestli believ tarantino heavili influenc specif movi certain scene kill bill vol 1 heck make featur mention whole scene beatrix hospit ell driver come kill influenc italian giallo friend proof anyhow tarantino refer asid movi amaz camera shot like scene crow fli crowd opera hous great stuff main reason argento becom one favorit act cast alright best far cristina marsillach tortur young opera singer betti look eye murder commit great rest cast littl wooden stiff noth would deter enjoy film thing like movi first logic thrown window certain scene special involv betti reaction she seen murder seem longest time went busi tell anyon whole thing even polic mean see someon brutal murder love one front eye walk away murder scene continu life someon would connect murder might even becom suspect also end bit anti climact see understand seem bit unnecessari way film end felt like could end earlier would felt redund that real big problem realli sinc enjoy rest beauti film still got lot argento territori cover devour everi step way like eat plate expens caviar guy realli good think film work art seen two em cant wait discov rest film argento man rate 41 2 5', 'think lot peopl wrote anoth one tom cruis weird movi magnolia eye wide shut vanilla sky definit movi mani peopl said weird differ confus weird weird stanley kubrick pauli shore differ truman show confus matrix game unlik kubrick movi conclus everyth make sens mayb immedi mayb even today make sens vanilla sky confus david aam tom cruis confus point call weird turn critic away came bother open eye origin 1997 spanish movi would seen enough reason see go see music cameron crow offer wonder soundtrack use set feel notori element mani movi lack song like beach boy good vibrat play dramat emot climax movi creat offbeat yet astoundingli right feel wonder film script music act imag vanilla sky sadli superfici bandwagon movi critic chide order appear intellig excel', 'stori two dog cat look way back home old wise golden retriev shadow young american bulldog chanc himalayan cat sassi flee ranch go wilder reunit famili homeward bound incred journey 1993 famili adventur direct duwayn dunham remak 1963 film movi got sequel three year later michael j fox perfect man voic chanc fox youth energi bring role salli field great voic work sassi amech fantast shadow veteran actor second last movi also visibl actor great kim greist play laura burnford seaver robert hay bob seaver benji thall play peter burnford veronica lauren hope burnford kevin chevalia jami seaver jean smart portray kate quit amaz watch pet tri surviv wilder see sassi taken river seem like goner bear scene exit funni chanc chanc big hungri bear meet porcupin look pain great fun whole famili']\n",
      "['rememb old kung fu movi use watch friday saturday late night babysitt thought charg well movi play exactli like one movi patsi kensit biggest claim fame love interest mel gibson charact lethal weapon 2 perform one reason never made big terribl actress lethal weapon 2 thought cute cute enough check movi includ love music love danc anoth big let obvious impress either attract eye soul scream turn play anoth cheap predict role done badli movi kensit star comedienn good one either work club franc cut homeland make ear bleed luck even wors french govern want throw expir visa mayb caught act get marri casanova freiss luck predict begin terribl way give movi neg rate 1 10 star rate', 'movi anoth one list movi bother saw 40 year ago adolesc stay late annoy find 95 romanc 4 everyth els 1 histori call bait switch movi one interest titl actual movi scam subject deserv good cinemat treatment movi almost insult serv actual member lafayett escadril run law product abus home realiti idealist want someth help franc suspect mani came upper class background tab hunter charact fli school smart aleck know all individu one portray last two day would either stockad infantri disciplin french armi often rather fierc short anoth hollywierd version histor episod deserv proper treatment', 'world thing like get dvd player home even get packag distribut absolut zero screen movi use term loos go put video store shelf anymor diy film make come entitl get group friend rel togeth crappi camcord aw stori put togeth creat heap pile crap call movi wish peopl would quit use word indi campi describ type movi either profess would someth like consid accept someon tri sell car bad movi take back say lemon surgic procedur su doctor malpractic wish could get time money back watch shame video store stock movi like rip public want campi go get friday 13th movi even later one dead aliv least make want kill movi like make peopl automat equat independ garbag', 'queen damn one best vampir movi ever seen movi suspens action gore combin fierc demand attitud queen rock mood star well act stuart townsend make wonder done movi combin creat alway one give advic friend famili member movi worthi rent ask queen damn worthi tell worthi buy movi sure must horror movi lover home', 'caprica episod s01e01 well done pilot realli episod exact content dvd pilot releas said episod 01 give substant background popular battlestar galactica seri origin 2007 remak significantli appli 2007 seri trend plot sci fi late seri explor virtual life environ top given much background adama famili line well relationship unrev battlestar galactica seri creator cylon part first episod revolv around popular topic virtual life expect earli life coloni birth cylon rather enjoy episod although new materi anyon alreadi seen dvd releas caprica pilot seri seem promis case mani pilot episod 01 leav us cliff hanger ensur follow audienc sci fi commun definit go keep watch resolv well develop give seri 8 star']\n",
      "40000\n",
      "10000\n"
     ]
    }
   ],
   "source": [
    "#Cleaning training and testing data\n",
    "\n",
    "X_clean = [cleanreview(review) for review in X_train]\n",
    "x_clean = [cleanreview(review) for review in X_test]\n",
    "\n",
    "print(X_clean[:5])\n",
    "print(x_clean[:5])\n",
    "\n",
    "print(len(X_clean))\n",
    "print(len(x_clean))\n",
    "\n"
   ]
  },
  {
   "cell_type": "code",
   "execution_count": 8,
   "metadata": {},
   "outputs": [
    {
     "name": "stdout",
     "output_type": "stream",
     "text": [
      "(40000, 2270363)\n",
      "(10000, 2270363)\n"
     ]
    }
   ],
   "source": [
    "#Creating vocab and vectorization.\n",
    "\n",
    "from sklearn.feature_extraction.text import CountVectorizer\n",
    "cv = CountVectorizer(ngram_range = (1,2))\n",
    "\n",
    "X_vec = cv.fit_transform(X_clean)\n",
    "print(X_vec.shape)\n",
    "\n",
    "x_vec = cv.transform(x_clean)\n",
    "print(x_vec.shape)"
   ]
  },
  {
   "cell_type": "code",
   "execution_count": 9,
   "metadata": {},
   "outputs": [
    {
     "name": "stdout",
     "output_type": "stream",
     "text": [
      "['neg' 'neg' 'neg' ... 'pos' 'pos' 'neg']\n"
     ]
    }
   ],
   "source": [
    "#Making Predictions.\n",
    "\n",
    "from sklearn.naive_bayes import MultinomialNB\n",
    "\n",
    "mnb = MultinomialNB()\n",
    "mnb.fit(X_vec,Y_train)\n",
    "\n",
    "pred = mnb.predict(x_vec)\n",
    "print(pred)\n",
    "\n"
   ]
  },
  {
   "cell_type": "code",
   "execution_count": 10,
   "metadata": {},
   "outputs": [],
   "source": [
    "#Storing the predictions in a csv file.\n",
    "\n",
    "df = pd.DataFrame(data = pred,columns = [\"label\"])\n",
    "df.to_csv('Movie_Rating_Prediction.csv',index_label = 'Id')\n",
    "\n"
   ]
  },
  {
   "cell_type": "code",
   "execution_count": 11,
   "metadata": {},
   "outputs": [
    {
     "name": "stdout",
     "output_type": "stream",
     "text": [
      "99.46000000000001\n"
     ]
    }
   ],
   "source": [
    "#Calculating Accuracy.\n",
    "\n",
    "def score(Y_pred,Y_train):\n",
    "    score = np.sum(Y_pred==Y_train)/len(Y_train)\n",
    "    return score*100\n",
    "\n",
    "Y_pred = mnb.predict(X_vec)\n",
    "accuracy = score(Y_pred,Y_train)\n",
    "print(accuracy)"
   ]
  },
  {
   "cell_type": "code",
   "execution_count": null,
   "metadata": {},
   "outputs": [],
   "source": []
  }
 ],
 "metadata": {
  "kernelspec": {
   "display_name": "Python 3",
   "language": "python",
   "name": "python3"
  },
  "language_info": {
   "codemirror_mode": {
    "name": "ipython",
    "version": 3
   },
   "file_extension": ".py",
   "mimetype": "text/x-python",
   "name": "python",
   "nbconvert_exporter": "python",
   "pygments_lexer": "ipython3",
   "version": "3.8.1"
  }
 },
 "nbformat": 4,
 "nbformat_minor": 4
}
